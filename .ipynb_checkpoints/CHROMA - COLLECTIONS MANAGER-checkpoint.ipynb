{
 "cells": [
  {
   "cell_type": "code",
   "execution_count": 1,
   "id": "a2beba5a-282d-425c-aa98-b535cc0c9a96",
   "metadata": {},
   "outputs": [],
   "source": [
    "#%pip install -r requirements.txt"
   ]
  },
  {
   "cell_type": "code",
   "execution_count": 2,
   "id": "9a93532e-d0e0-4f7f-bfc6-94a3d4c4ebbf",
   "metadata": {
    "editable": true,
    "slideshow": {
     "slide_type": ""
    },
    "tags": []
   },
   "outputs": [
    {
     "data": {
      "application/vnd.jupyter.widget-view+json": {
       "model_id": "9f27618602e046428c63164406ce69bd",
       "version_major": 2,
       "version_minor": 0
      },
      "text/plain": [
       "Button(button_style='primary', description='Refresh Collections', style=ButtonStyle())"
      ]
     },
     "metadata": {},
     "output_type": "display_data"
    },
    {
     "data": {
      "application/vnd.jupyter.widget-view+json": {
       "model_id": "e7bb4513c293471099c4c9c0cc001442",
       "version_major": 2,
       "version_minor": 0
      },
      "text/plain": [
       "VBox()"
      ]
     },
     "metadata": {},
     "output_type": "display_data"
    },
    {
     "data": {
      "application/vnd.jupyter.widget-view+json": {
       "model_id": "c4180d3c6f6144aa80cd3664d2ee0e43",
       "version_major": 2,
       "version_minor": 0
      },
      "text/plain": [
       "Output()"
      ]
     },
     "metadata": {},
     "output_type": "display_data"
    },
    {
     "data": {
      "application/vnd.jupyter.widget-view+json": {
       "model_id": "3809c52e6e4b4d24b20de52ac32d0b83",
       "version_major": 2,
       "version_minor": 0
      },
      "text/plain": [
       "Output()"
      ]
     },
     "metadata": {},
     "output_type": "display_data"
    },
    {
     "data": {
      "application/vnd.jupyter.widget-view+json": {
       "model_id": "a67813ad76094b6a9a1b044eaee5962b",
       "version_major": 2,
       "version_minor": 0
      },
      "text/plain": [
       "Output()"
      ]
     },
     "metadata": {},
     "output_type": "display_data"
    }
   ],
   "source": [
    "import ipywidgets as widgets\n",
    "from IPython.display import display, clear_output, HTML\n",
    "import chromadb\n",
    "from chromadb.config import DEFAULT_TENANT, DEFAULT_DATABASE, Settings\n",
    "from langchain_chroma import Chroma\n",
    "import os\n",
    "import pandas as pd\n",
    "import random\n",
    "from dotenv import load_dotenv\n",
    "\n",
    "# Load configuration settings from the .env file\n",
    "load_dotenv()\n",
    "\n",
    "CHROMA_DB_PATH = os.getenv('CHROMA_DB_PATH')\n",
    "\n",
    "# Set up chromadb client\n",
    "client = chromadb.PersistentClient(\n",
    "    path=CHROMA_DB_PATH,\n",
    "    settings=Settings(),\n",
    "    tenant=DEFAULT_TENANT,\n",
    "    database=DEFAULT_DATABASE,\n",
    ")\n",
    "\n",
    "# Function to list collections\n",
    "def list_collections():\n",
    "    collections = client.list_collections()\n",
    "    return [collection.name for collection in collections]\n",
    "\n",
    "# Function to display collection details\n",
    "def show_details(collection_name):\n",
    "    try:\n",
    "        collection = client.get_collection(collection_name)\n",
    "        details_output.clear_output()\n",
    "        with details_output:\n",
    "            print(f\"Collection Name: {collection_name}\")\n",
    "            print(f\"Document Count: {collection.count()}\")\n",
    "            if collection.metadata:\n",
    "                for key, value in collection.metadata.items():\n",
    "                    print(f\"{key}: {value}\")\n",
    "            else:\n",
    "                print(\"No metadata available.\")\n",
    "            \n",
    "            # Display details of the documents in the collection\n",
    "            raw_data = collection.get(limit=5)\n",
    "            print(\"Raw Document Data:\", raw_data)  # Print out raw data for inspection\n",
    "            \n",
    "            # Extract and display relevant data\n",
    "            ids = raw_data.get('ids', [])\n",
    "            metadatas = raw_data.get('metadatas', [])\n",
    "\n",
    "            if not ids or not metadatas:\n",
    "                print(\"No documents available or missing data.\")\n",
    "                return\n",
    "\n",
    "            # Create table with clickable IDs\n",
    "            table_html = \"<table><tr><th>ID</th><th>Metadata</th></tr>\"\n",
    "            for doc_id, metadata in zip(ids, metadatas):\n",
    "                table_html += f\"<tr><td><a href='#' onclick='IPython.notebook.kernel.execute(\\\"show_document_details('{collection_name}', '{doc_id}')\\\")'>{doc_id}</a></td>\"\n",
    "                table_html += f\"<td>{metadata}</td></tr>\"\n",
    "            table_html += \"</table>\"\n",
    "            \n",
    "            display(HTML(table_html))\n",
    "    except Exception as e:\n",
    "        details_output.clear_output()\n",
    "        with details_output:\n",
    "            print(f\"Error while fetching details for collection '{collection_name}': {str(e)}\")\n",
    "\n",
    "# Function to display individual document details\n",
    "def show_document_details(collection_name, doc_id):\n",
    "    try:\n",
    "        collection = client.get_collection(collection_name)\n",
    "        document_details_output.clear_output()\n",
    "        with document_details_output:\n",
    "            print(f\"Collection: {collection_name}, Document ID: {doc_id}\")\n",
    "            \n",
    "            # Retrieve document details\n",
    "            raw_data = collection.get(ids=[doc_id])\n",
    "            if not raw_data or not raw_data.get('metadatas'):\n",
    "                print(f\"No details available for document ID: {doc_id}\")\n",
    "                return\n",
    "\n",
    "            # Assuming getting first (and only one) document metadata and embeddings\n",
    "            metadata = raw_data['metadatas'][0]\n",
    "            print(\"Metadata:\", metadata)\n",
    "    except Exception as e:\n",
    "        document_details_output.clear_output()\n",
    "        with document_details_output:\n",
    "            print(f\"Error while fetching details for document ID '{doc_id}': {str(e)}\")\n",
    "\n",
    "\n",
    "# Function to delete collection\n",
    "def delete_collection(collection_name):\n",
    "    try:\n",
    "        client.delete_collection(collection_name)\n",
    "        refresh_collections()\n",
    "    except Exception as e:\n",
    "        error_output.clear_output()\n",
    "        with error_output:\n",
    "            print(f\"Error while deleting collection '{collection_name}': {str(e)}\")\n",
    "\n",
    "# Function to refresh the list of collections\n",
    "def refresh_collections():\n",
    "    collection_names = list_collections()\n",
    "    collection_buttons.children = [\n",
    "        widgets.HBox([\n",
    "            widgets.Label(value=collection_name, layout=widgets.Layout(width='200px')),\n",
    "            widgets.Button(description=\"Delete\", button_style='danger', layout=widgets.Layout(width='100px')),\n",
    "            widgets.Button(description=\"Details\", button_style='info', layout=widgets.Layout(width='100px'))\n",
    "        ])\n",
    "        for collection_name in collection_names\n",
    "    ]\n",
    "    for box in collection_buttons.children:\n",
    "        name_label, delete_button, details_button = box.children\n",
    "        \n",
    "        # Use default arguments in lambda to capture the current collection name\n",
    "        delete_button.on_click(lambda b, name=name_label.value: delete_collection(name))\n",
    "        details_button.on_click(lambda b, name=name_label.value: show_details(name))\n",
    "\n",
    "# Set up widgets\n",
    "details_output = widgets.Output()\n",
    "document_details_output = widgets.Output()\n",
    "error_output = widgets.Output()\n",
    "collection_buttons = widgets.VBox()\n",
    "refresh_button = widgets.Button(description=\"Refresh Collections\", button_style='primary')\n",
    "refresh_button.on_click(lambda b: refresh_collections())\n",
    "\n",
    "# Display widgets in the Jupyter notebook\n",
    "display(refresh_button, collection_buttons, details_output, document_details_output, error_output)\n",
    "\n",
    "# Initialize the list of collections\n",
    "refresh_collections()"
   ]
  },
  {
   "cell_type": "code",
   "execution_count": null,
   "id": "fa868b98-195b-4bbf-a5f4-74e356bb2d77",
   "metadata": {
    "editable": true,
    "slideshow": {
     "slide_type": ""
    },
    "tags": []
   },
   "outputs": [],
   "source": []
  }
 ],
 "metadata": {
  "kernelspec": {
   "display_name": "Python 3 (ipykernel)",
   "language": "python",
   "name": "python3"
  },
  "language_info": {
   "codemirror_mode": {
    "name": "ipython",
    "version": 3
   },
   "file_extension": ".py",
   "mimetype": "text/x-python",
   "name": "python",
   "nbconvert_exporter": "python",
   "pygments_lexer": "ipython3",
   "version": "3.12.3"
  }
 },
 "nbformat": 4,
 "nbformat_minor": 5
}
